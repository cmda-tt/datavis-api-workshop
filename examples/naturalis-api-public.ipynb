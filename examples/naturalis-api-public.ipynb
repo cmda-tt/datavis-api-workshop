{
 "cells": [
  {
   "cell_type": "markdown",
   "metadata": {},
   "source": [
    "# Naturalis API\n",
    "\n",
    "## Metadata\n",
    "\n",
    "- **Vak**: ID Datavisualisatie\n",
    "- **Workshop**: Datavis API Workshop\n",
    "- **Lecturers**: Laura Benvenuti & Danny de Vries\n",
    "- **University**: Amsterdam University of Applied Sciences\n",
    "- **Programme**: Communication and Multimedia Design\n",
    "- **Faculty**: Digital Media and Creative Industries\n",
    "\n",
    "## Omschrijving\n",
    "\n",
    "Dit is een wat complexer notebook, een beetje een 'typisch' notebook die je zou verwachten als je data uit een api haalt en wilt plotten. De Schiphol API heeft authenticatie met een app key en meerdere endpoints om data uit verschillende datasets te halen. \n",
    "\n",
    "[Netherlands Biodiversity Data Services](https://docs.biodiversitydata.nl/en/latest/)\n",
    "\n",
    "[Endpoints overview](https://api.biodiversitydata.nl/v2/metadata/getRestServices)"
   ]
  },
  {
   "cell_type": "markdown",
   "metadata": {},
   "source": [
    "## Taken\n",
    "\n",
    "Dit notebook doet:\n",
    "\n",
    "* De schiphol API fetchen op verschillende endpoints\n",
    "* Data van vluchten samenvoegen\n",
    "* Landen omzetten naar geo\n",
    "* Kaart plotten met vluchtroutes"
   ]
  },
  {
   "cell_type": "markdown",
   "metadata": {},
   "source": [
    "### Check python versie"
   ]
  },
  {
   "cell_type": "code",
   "execution_count": 1,
   "metadata": {},
   "outputs": [
    {
     "name": "stdout",
     "output_type": "stream",
     "text": [
      "Running a sufficiently new version of Python.\n",
      "Current version: 3.12.5\n",
      "Minimum required version: 3.8\n"
     ]
    }
   ],
   "source": [
    "from packaging import version\n",
    "import platform\n",
    "import sys\n",
    "\n",
    "min_version = '3.8'\n",
    "\n",
    "def check_version(min_version):\n",
    "    current_version = sys.version.split()[0]\n",
    "    return version.parse(current_version) >= version.parse(min_version)\n",
    "\n",
    "# Example usage:\n",
    "if __name__ == \"__main__\":\n",
    "    if check_version(min_version):\n",
    "        print(\"Running a sufficiently new version of Python.\")\n",
    "        print(\"Current version: \" + platform.python_version())\n",
    "        print(\"Minimum required version: \" + min_version)\n",
    "    else:\n",
    "        print(\"Python version is too old. Upgrade to a newer version.\")"
   ]
  },
  {
   "cell_type": "markdown",
   "metadata": {},
   "source": [
    "### Packages installeren"
   ]
  },
  {
   "cell_type": "code",
   "execution_count": 33,
   "metadata": {},
   "outputs": [
    {
     "name": "stdout",
     "output_type": "stream",
     "text": [
      "Requirement already satisfied: requests in /Users/deckard/Repos/datavis-api-workshop/.venv/lib/python3.12/site-packages (2.32.3)\n",
      "Requirement already satisfied: charset-normalizer<4,>=2 in /Users/deckard/Repos/datavis-api-workshop/.venv/lib/python3.12/site-packages (from requests) (3.3.2)\n",
      "Requirement already satisfied: idna<4,>=2.5 in /Users/deckard/Repos/datavis-api-workshop/.venv/lib/python3.12/site-packages (from requests) (3.8)\n",
      "Requirement already satisfied: urllib3<3,>=1.21.1 in /Users/deckard/Repos/datavis-api-workshop/.venv/lib/python3.12/site-packages (from requests) (2.2.2)\n",
      "Requirement already satisfied: certifi>=2017.4.17 in /Users/deckard/Repos/datavis-api-workshop/.venv/lib/python3.12/site-packages (from requests) (2024.7.4)\n",
      "Requirement already satisfied: pandas in /Users/deckard/Repos/datavis-api-workshop/.venv/lib/python3.12/site-packages (2.2.2)\n",
      "Requirement already satisfied: numpy>=1.26.0 in /Users/deckard/Repos/datavis-api-workshop/.venv/lib/python3.12/site-packages (from pandas) (2.1.0)\n",
      "Requirement already satisfied: python-dateutil>=2.8.2 in /Users/deckard/Repos/datavis-api-workshop/.venv/lib/python3.12/site-packages (from pandas) (2.9.0.post0)\n",
      "Requirement already satisfied: pytz>=2020.1 in /Users/deckard/Repos/datavis-api-workshop/.venv/lib/python3.12/site-packages (from pandas) (2024.1)\n",
      "Requirement already satisfied: tzdata>=2022.7 in /Users/deckard/Repos/datavis-api-workshop/.venv/lib/python3.12/site-packages (from pandas) (2024.1)\n",
      "Requirement already satisfied: six>=1.5 in /Users/deckard/Repos/datavis-api-workshop/.venv/lib/python3.12/site-packages (from python-dateutil>=2.8.2->pandas) (1.16.0)\n"
     ]
    }
   ],
   "source": [
    "!pip install requests\n",
    "!pip install pandas"
   ]
  },
  {
   "cell_type": "markdown",
   "metadata": {},
   "source": [
    "### Packages importeren"
   ]
  },
  {
   "cell_type": "code",
   "execution_count": 34,
   "metadata": {},
   "outputs": [],
   "source": [
    "import requests\n",
    "import pandas as pd"
   ]
  },
  {
   "cell_type": "markdown",
   "metadata": {},
   "source": [
    "### API Endpoint"
   ]
  },
  {
   "cell_type": "code",
   "execution_count": 20,
   "metadata": {},
   "outputs": [],
   "source": [
    "API_ENDPOINT = 'https://api.biodiversitydata.nl/v2/specimen/query/?collectionType=Mammalia'"
   ]
  },
  {
   "cell_type": "markdown",
   "metadata": {},
   "source": [
    "### Data fetchen en loggen"
   ]
  },
  {
   "cell_type": "code",
   "execution_count": 35,
   "metadata": {},
   "outputs": [
    {
     "name": "stdout",
     "output_type": "stream",
     "text": [
      "Data fetchen gelukt\n",
      "{'resultSet': [{'score': 4.075937, 'item': {'sourceSystem': {'code': 'CRS', 'name': 'Naturalis - Zoology and Geology catalogues'}, 'sourceSystemId': 'RMNH.MAM.17572.a', 'id': 'RMNH.MAM.17572.a@CRS', 'unitID': 'RMNH.MAM.17572.a', 'unitGUID': 'https://data.biodiversitydata.nl/naturalis/specimen/RMNH.MAM.17572.a', 'sourceInstitutionID': 'Naturalis Biodiversity Center', 'sourceID': 'CRS', 'owner': 'Naturalis Biodiversity Center', 'licenseType': 'Copyright', 'license': 'CC0 1.0', 'recordBasis': 'PreservedSpecimen', 'kindOfUnit': 'skull', 'collectionType': 'Mammalia', 'sex': 'male', 'title': 'RMNH.MAM.17572.a_lat', 'preparationType': 'loose bones', 'numberOfSpecimen': 1, 'fromCaptivity': False, 'objectPublic': True, 'multiMediaPublic': True, 'gatheringEvent': {'country': 'Suriname', 'localityText': 'Paramaribo, Suriname', 'dateText': 'september 1961', 'gatheringPersons': [{'fullName': 'Geijskes, D.C.'}]}, 'modified': '2017-12-12T00:00:00+0000', 'identifications': [{'taxonRank': 'subspecies', 'scientificName': {'fullScientificName': 'Lasiurus borealis frantzii', 'genusOrMonomial': 'Lasiurus', 'specificEpithet': 'borealis', 'infraspecificEpithet': 'frantzii', 'scientificNameGroup': 'lasiurus borealis frantzii'}, 'defaultClassification': {'kingdom': 'Animalia', 'genus': 'Lasiurus', 'specificEpithet': 'borealis', 'infraspecificEpithet': 'frantzii'}, 'preferred': True}], 'associatedMultiMediaUris': [{'accessUri': 'https://medialib.naturalis.nl/file/id/RMNH.MAM.17572.a_lat/format/large', 'format': 'image/jpeg', 'variant': 'ac:GoodQuality'}, {'accessUri': 'https://medialib.naturalis.nl/file/id/RMNH.MAM.17572.a_pal/format/large', 'format': 'image/jpeg', 'variant': 'ac:GoodQuality'}]}}, {'score': 4.075937, 'item': {'sourceSystem': {'code': 'CRS', 'name': 'Naturalis - Zoology and Geology catalogues'}, 'sourceSystemId': 'RMNH.MAM.17572.b', 'id': 'RMNH.MAM.17572.b@CRS', 'unitID': 'RMNH.MAM.17572.b', 'unitGUID': 'https://data.biodiversitydata.nl/naturalis/specimen/RMNH.MAM.17572.b', 'sourceInstitutionID': 'Naturalis Biodiversity Center', 'sourceID': 'CRS', 'owner': 'Naturalis Biodiversity Center', 'licenseType': 'Copyright', 'license': 'CC0 1.0', 'recordBasis': 'PreservedSpecimen', 'kindOfUnit': 'WholeOrganism', 'collectionType': 'Mammalia', 'sex': 'male', 'preparationType': 'alcohol', 'numberOfSpecimen': 1, 'fromCaptivity': False, 'objectPublic': True, 'gatheringEvent': {'country': 'Suriname', 'localityText': 'Paramaribo, Suriname', 'dateText': 'september 1961', 'gatheringPersons': [{'fullName': 'Geijskes, D.C.'}]}, 'modified': '2017-12-12T00:00:00+0000', 'identifications': [{'taxonRank': 'subspecies', 'scientificName': {'fullScientificName': 'Lasiurus borealis frantzii', 'genusOrMonomial': 'Lasiurus', 'specificEpithet': 'borealis', 'infraspecificEpithet': 'frantzii', 'scientificNameGroup': 'lasiurus borealis frantzii'}, 'defaultClassification': {'kingdom': 'Animalia', 'genus': 'Lasiurus', 'specificEpithet': 'borealis', 'infraspecificEpithet': 'frantzii'}, 'preferred': True}]}}, {'score': 4.075937, 'item': {'sourceSystem': {'code': 'CRS', 'name': 'Naturalis - Zoology and Geology catalogues'}, 'sourceSystemId': 'RMNH.MAM.13285', 'id': 'RMNH.MAM.13285@CRS', 'unitID': 'RMNH.MAM.13285', 'unitGUID': 'https://data.biodiversitydata.nl/naturalis/specimen/RMNH.MAM.13285', 'sourceInstitutionID': 'Naturalis Biodiversity Center', 'sourceID': 'CRS', 'owner': 'Naturalis Biodiversity Center', 'licenseType': 'Copyright', 'license': 'CC0 1.0', 'recordBasis': 'PreservedSpecimen', 'kindOfUnit': 'skeleton (whole)', 'collectionType': 'Mammalia', 'sex': 'male', 'title': 'RMNH.MAM.13285_lat_1', 'preparationType': 'loose bones', 'numberOfSpecimen': 1, 'fromCaptivity': False, 'objectPublic': True, 'multiMediaPublic': True, 'gatheringEvent': {'country': 'Netherlands', 'localityText': 'Leiden, Nederland', 'dateTimeBegin': '1877-01-31T00:00:00+0000', 'dateTimeEnd': '1877-01-31T00:00:00+0000', 'dateText': '31 januari 1877'}, 'modified': '2015-08-13T21:43:36+0000', 'identifications': [{'taxonRank': 'species', 'scientificName': {'fullScientificName': 'Eptesicus serotinus', 'genusOrMonomial': 'Eptesicus', 'specificEpithet': 'serotinus', 'scientificNameGroup': 'eptesicus serotinus'}, 'defaultClassification': {'kingdom': 'Animalia', 'genus': 'Eptesicus', 'specificEpithet': 'serotinus'}, 'preferred': True}], 'associatedMultiMediaUris': [{'accessUri': 'https://medialib.naturalis.nl/file/id/RMNH.MAM.13285_lat_1/format/large', 'format': 'image/jpeg', 'variant': 'ac:GoodQuality'}, {'accessUri': 'https://medialib.naturalis.nl/file/id/RMNH.MAM.13285_lat_2/format/large', 'format': 'image/jpeg', 'variant': 'ac:GoodQuality'}]}}, {'score': 4.075937, 'item': {'sourceSystem': {'code': 'CRS', 'name': 'Naturalis - Zoology and Geology catalogues'}, 'sourceSystemId': 'RMNH.MAM.25638', 'id': 'RMNH.MAM.25638@CRS', 'unitID': 'RMNH.MAM.25638', 'unitGUID': 'https://data.biodiversitydata.nl/naturalis/specimen/RMNH.MAM.25638', 'sourceInstitutionID': 'Naturalis Biodiversity Center', 'sourceID': 'CRS', 'owner': 'Naturalis Biodiversity Center', 'licenseType': 'Copyright', 'license': 'CC0 1.0', 'recordBasis': 'PreservedSpecimen', 'kindOfUnit': 'skull', 'collectionType': 'Mammalia', 'title': 'RMNH.MAM.25638_lat', 'preparationType': 'loose bones', 'numberOfSpecimen': 1, 'fromCaptivity': False, 'objectPublic': True, 'multiMediaPublic': True, 'gatheringEvent': {'country': 'United States', 'localityText': 'Noord-Amerika.'}, 'modified': '2015-08-13T21:40:24+0000', 'identifications': [{'taxonRank': 'subspecies', 'scientificName': {'fullScientificName': 'Lasiurus borealis borealis', 'genusOrMonomial': 'Lasiurus', 'specificEpithet': 'borealis', 'infraspecificEpithet': 'borealis', 'scientificNameGroup': 'lasiurus borealis borealis'}, 'defaultClassification': {'kingdom': 'Animalia', 'genus': 'Lasiurus', 'specificEpithet': 'borealis', 'infraspecificEpithet': 'borealis'}, 'preferred': True}], 'associatedMultiMediaUris': [{'accessUri': 'https://medialib.naturalis.nl/file/id/RMNH.MAM.25638_lat/format/large', 'format': 'image/jpeg', 'variant': 'ac:GoodQuality'}, {'accessUri': 'https://medialib.naturalis.nl/file/id/RMNH.MAM.25638_pal/format/large', 'format': 'image/jpeg', 'variant': 'ac:GoodQuality'}]}}, {'score': 4.075937, 'item': {'sourceSystem': {'code': 'CRS', 'name': 'Naturalis - Zoology and Geology catalogues'}, 'sourceSystemId': 'RMNH.MAM.60665.b', 'id': 'RMNH.MAM.60665.b@CRS', 'unitID': 'RMNH.MAM.60665.b', 'unitGUID': 'https://data.biodiversitydata.nl/naturalis/specimen/RMNH.MAM.60665.b', 'sourceInstitutionID': 'Naturalis Biodiversity Center', 'sourceID': 'CRS', 'previousSourceID': ['Collectie Bauke Hoekstra'], 'owner': 'Naturalis Biodiversity Center', 'licenseType': 'Copyright', 'license': 'CC0 1.0', 'recordBasis': 'PreservedSpecimen', 'kindOfUnit': 'skin', 'collectionType': 'Mammalia', 'sex': 'male', 'phaseOrStage': 'juvenile', 'preparationType': 'study skin', 'numberOfSpecimen': 1, 'fromCaptivity': False, 'objectPublic': True, 'gatheringEvent': {'country': 'The Netherlands', 'provinceState': 'Overijssel', 'locality': 'Goor', 'dateTimeBegin': '1959-09-15T00:00:00+0000', 'dateTimeEnd': '1959-09-15T00:00:00+0000', 'dateText': '15 september 1959', 'gatheringPersons': [{'fullName': 'Hoekstra, B.'}]}, 'modified': '2023-09-14T15:45:03+0000', 'identifications': [{'taxonRank': 'species', 'scientificName': {'fullScientificName': 'Erinaceus europaeus Linnaeus, 1758', 'genusOrMonomial': 'Erinaceus', 'specificEpithet': 'europaeus', 'authorshipVerbatim': 'Linnaeus, 1758', 'scientificNameGroup': 'erinaceus europaeus'}, 'defaultClassification': {'kingdom': 'Animalia', 'genus': 'Erinaceus', 'specificEpithet': 'europaeus'}, 'preferred': True}]}}, {'score': 4.075937, 'item': {'sourceSystem': {'code': 'CRS', 'name': 'Naturalis - Zoology and Geology catalogues'}, 'sourceSystemId': 'RMNH.MAM.62334.b', 'id': 'RMNH.MAM.62334.b@CRS', 'unitID': 'RMNH.MAM.62334.b', 'unitGUID': 'https://data.biodiversitydata.nl/naturalis/specimen/RMNH.MAM.62334.b', 'sourceInstitutionID': 'Naturalis Biodiversity Center', 'sourceID': 'CRS', 'previousSourceID': ['Collectie Bauke Hoekstra'], 'owner': 'Naturalis Biodiversity Center', 'licenseType': 'Copyright', 'license': 'CC0 1.0', 'recordBasis': 'PreservedSpecimen', 'kindOfUnit': 'skin', 'collectionType': 'Mammalia', 'sex': 'male', 'phaseOrStage': 'adult', 'preparationType': 'study skin', 'numberOfSpecimen': 1, 'fromCaptivity': False, 'objectPublic': True, 'gatheringEvent': {'country': 'Canada', 'provinceState': 'Ontario', 'locality': 'Orillia', 'dateTimeBegin': '1981-08-11T00:00:00+0000', 'dateTimeEnd': '1981-08-11T00:00:00+0000', 'dateText': '11 augustus 1981', 'gatheringPersons': [{'fullName': 'Hoekstra, B.'}]}, 'modified': '2023-09-15T11:33:36+0000', 'identifications': [{'taxonRank': 'species', 'scientificName': {'fullScientificName': 'Blarina brevicauda Say, 1823', 'genusOrMonomial': 'Blarina', 'specificEpithet': 'brevicauda', 'authorshipVerbatim': 'Say, 1823', 'scientificNameGroup': 'blarina brevicauda'}, 'defaultClassification': {'kingdom': 'Animalia', 'genus': 'Blarina', 'specificEpithet': 'brevicauda'}, 'preferred': True}]}}, {'score': 4.075937, 'item': {'sourceSystem': {'code': 'CRS', 'name': 'Naturalis - Zoology and Geology catalogues'}, 'sourceSystemId': 'RMNH.MAM.62559.a', 'id': 'RMNH.MAM.62559.a@CRS', 'unitID': 'RMNH.MAM.62559.a', 'unitGUID': 'https://data.biodiversitydata.nl/naturalis/specimen/RMNH.MAM.62559.a', 'sourceInstitutionID': 'Naturalis Biodiversity Center', 'sourceID': 'CRS', 'previousSourceID': ['Collectie Bauke Hoekstra'], 'owner': 'Naturalis Biodiversity Center', 'licenseType': 'Copyright', 'license': 'CC0 1.0', 'recordBasis': 'PreservedSpecimen', 'kindOfUnit': 'skull', 'collectionType': 'Mammalia', 'sex': 'female', 'phaseOrStage': 'adult', 'preparationType': 'loose bones', 'numberOfSpecimen': 1, 'fromCaptivity': False, 'objectPublic': True, 'gatheringEvent': {'country': 'United States of America', 'provinceState': 'Michigan', 'locality': 'Holland', 'dateTimeBegin': '1976-08-06T00:00:00+0000', 'dateTimeEnd': '1976-08-06T00:00:00+0000', 'dateText': '6 augustus 1976', 'gatheringPersons': [{'fullName': 'Hoekstra, B.'}]}, 'modified': '2023-09-15T13:22:44+0000', 'identifications': [{'taxonRank': 'species', 'scientificName': {'fullScientificName': 'Peromyscus maniculatus Melchior, 1834', 'genusOrMonomial': 'Peromyscus', 'specificEpithet': 'maniculatus', 'authorshipVerbatim': 'Melchior, 1834', 'scientificNameGroup': 'peromyscus maniculatus'}, 'defaultClassification': {'kingdom': 'Animalia', 'genus': 'Peromyscus', 'specificEpithet': 'maniculatus'}, 'preferred': True}]}}, {'score': 4.075937, 'item': {'sourceSystem': {'code': 'CRS', 'name': 'Naturalis - Zoology and Geology catalogues'}, 'sourceSystemId': 'RMNH.MAM.62559.b', 'id': 'RMNH.MAM.62559.b@CRS', 'unitID': 'RMNH.MAM.62559.b', 'unitGUID': 'https://data.biodiversitydata.nl/naturalis/specimen/RMNH.MAM.62559.b', 'sourceInstitutionID': 'Naturalis Biodiversity Center', 'sourceID': 'CRS', 'previousSourceID': ['Collectie Bauke Hoekstra'], 'owner': 'Naturalis Biodiversity Center', 'licenseType': 'Copyright', 'license': 'CC0 1.0', 'recordBasis': 'PreservedSpecimen', 'kindOfUnit': 'skin', 'collectionType': 'Mammalia', 'sex': 'female', 'phaseOrStage': 'adult', 'preparationType': 'study skin', 'numberOfSpecimen': 1, 'fromCaptivity': False, 'objectPublic': True, 'gatheringEvent': {'country': 'United States of America', 'provinceState': 'Michigan', 'locality': 'Holland', 'dateTimeBegin': '1976-08-06T00:00:00+0000', 'dateTimeEnd': '1976-08-06T00:00:00+0000', 'dateText': '6 augustus 1976', 'gatheringPersons': [{'fullName': 'Hoekstra, B.'}]}, 'modified': '2023-09-15T13:25:32+0000', 'identifications': [{'taxonRank': 'species', 'scientificName': {'fullScientificName': 'Peromyscus maniculatus Melchior, 1834', 'genusOrMonomial': 'Peromyscus', 'specificEpithet': 'maniculatus', 'authorshipVerbatim': 'Melchior, 1834', 'scientificNameGroup': 'peromyscus maniculatus'}, 'defaultClassification': {'kingdom': 'Animalia', 'genus': 'Peromyscus', 'specificEpithet': 'maniculatus'}, 'preferred': True}]}}, {'score': 4.075937, 'item': {'sourceSystem': {'code': 'CRS', 'name': 'Naturalis - Zoology and Geology catalogues'}, 'sourceSystemId': 'RMNH.MAM.62677.a', 'id': 'RMNH.MAM.62677.a@CRS', 'unitID': 'RMNH.MAM.62677.a', 'unitGUID': 'https://data.biodiversitydata.nl/naturalis/specimen/RMNH.MAM.62677.a', 'sourceInstitutionID': 'Naturalis Biodiversity Center', 'sourceID': 'CRS', 'previousSourceID': ['Collectie Bauke Hoekstra'], 'owner': 'Naturalis Biodiversity Center', 'licenseType': 'Copyright', 'license': 'CC0 1.0', 'recordBasis': 'PreservedSpecimen', 'kindOfUnit': 'skull', 'collectionType': 'Mammalia', 'sex': 'female', 'preparationType': 'loose bones', 'numberOfSpecimen': 1, 'fromCaptivity': False, 'objectPublic': True, 'gatheringEvent': {'country': 'Canada', 'provinceState': 'Brits-Columbia', 'locality': 'Moyie', 'dateTimeBegin': '1989-08-05T00:00:00+0000', 'dateTimeEnd': '1989-08-05T00:00:00+0000', 'dateText': '5 augustus 1989', 'gatheringPersons': [{'fullName': 'Hoekstra, B.'}]}, 'modified': '2023-09-15T13:22:45+0000', 'identifications': [{'taxonRank': 'species', 'scientificName': {'fullScientificName': 'Peromyscus maniculatus Wagner, 1845', 'genusOrMonomial': 'Peromyscus', 'specificEpithet': 'maniculatus', 'authorshipVerbatim': 'Wagner, 1845', 'scientificNameGroup': 'peromyscus maniculatus'}, 'defaultClassification': {'kingdom': 'Animalia', 'genus': 'Peromyscus', 'specificEpithet': 'maniculatus'}, 'preferred': True}]}}, {'score': 4.075937, 'item': {'sourceSystem': {'code': 'CRS', 'name': 'Naturalis - Zoology and Geology catalogues'}, 'sourceSystemId': 'RMNH.MAM.63732.b', 'id': 'RMNH.MAM.63732.b@CRS', 'unitID': 'RMNH.MAM.63732.b', 'unitGUID': 'https://data.biodiversitydata.nl/naturalis/specimen/RMNH.MAM.63732.b', 'sourceInstitutionID': 'Naturalis Biodiversity Center', 'sourceID': 'CRS', 'owner': 'Naturalis Biodiversity Center', 'licenseType': 'Copyright', 'license': 'CC0 1.0', 'recordBasis': 'PreservedSpecimen', 'kindOfUnit': 'skin', 'collectionType': 'Mammalia', 'sex': 'male', 'phaseOrStage': 'adult', 'preparationType': 'mounted skin', 'numberOfSpecimen': 1, 'fromCaptivity': False, 'objectPublic': True, 'gatheringEvent': {'projectTitle': 'Uranie', 'country': 'Australia', 'provinceState': 'New South Wales', 'locality': 'Port Macquarie', 'dateTimeBegin': '1819-01-01T00:00:00+0000', 'dateTimeEnd': '1819-12-31T00:00:00+0000', 'dateText': '1819', 'gatheringPersons': [{'fullName': 'Fraser, C.'}], 'siteCoordinates': [{'longitudeDecimal': 152.9, 'latitudeDecimal': -31.433333, 'coordinateErrorDistanceInMeters': 20000}]}, 'modified': '2023-09-21T09:29:04+0000', 'identifications': [{'taxonRank': 'species', 'scientificName': {'fullScientificName': 'Macropus rufus (Desmarest, 1822)', 'genusOrMonomial': 'Macropus', 'specificEpithet': 'rufus', 'authorshipVerbatim': '(Desmarest, 1822)', 'scientificNameGroup': 'macropus rufus'}, 'defaultClassification': {'kingdom': 'Animalia', 'family': 'Macropodidae', 'genus': 'Macropus', 'specificEpithet': 'rufus'}, 'preferred': True}, {'taxonRank': 'species', 'scientificName': {'fullScientificName': 'Kangurus laniger Gaimard, 1823', 'genusOrMonomial': 'Kangurus', 'specificEpithet': 'laniger', 'authorshipVerbatim': 'Gaimard, 1823', 'scientificNameGroup': 'kangurus laniger'}, 'typeStatus': 'holotype', 'defaultClassification': {'kingdom': 'Animalia', 'genus': 'Kangurus', 'specificEpithet': 'laniger'}, 'preferred': False}]}}], 'totalSize': 69096}\n"
     ]
    }
   ],
   "source": [
    "data = None;\n",
    "\n",
    "def fetch_data():\n",
    "    try:\n",
    "        response = requests.get(API_ENDPOINT)\n",
    "        \n",
    "        # Kijk of the request gelukt is\n",
    "        if response.status_code == 200:\n",
    "            # We weten dat de API .json heeft dus json parsen\n",
    "            global data\n",
    "            data = response.json()\n",
    "            # Print the fetched data\n",
    "            print(\"Data fetchen gelukt\")\n",
    "            print(data)\n",
    "        else:\n",
    "            # Error message van API als niet is gelukt\n",
    "            print(f\"Niet gelukt, fout: {response.text}\")\n",
    "\n",
    "    except requests.exceptions.RequestException as e:\n",
    "      # Log eventuele errors\n",
    "      print(f\"Error: {e}\")\n",
    "\n",
    "# Call the function to fetch and print the Mammalia data\n",
    "fetch_data()"
   ]
  },
  {
   "cell_type": "markdown",
   "metadata": {},
   "source": [
    "### Wetenschappelijke namen zoogdieren eruit halen"
   ]
  },
  {
   "cell_type": "code",
   "execution_count": 37,
   "metadata": {},
   "outputs": [
    {
     "name": "stdout",
     "output_type": "stream",
     "text": [
      "                            Species Name\n",
      "0             Lasiurus borealis frantzii\n",
      "1             Lasiurus borealis frantzii\n",
      "2                    Eptesicus serotinus\n",
      "3             Lasiurus borealis borealis\n",
      "4     Erinaceus europaeus Linnaeus, 1758\n",
      "5           Blarina brevicauda Say, 1823\n",
      "6  Peromyscus maniculatus Melchior, 1834\n",
      "7  Peromyscus maniculatus Melchior, 1834\n",
      "8    Peromyscus maniculatus Wagner, 1845\n",
      "9       Macropus rufus (Desmarest, 1822)\n"
     ]
    }
   ],
   "source": [
    "# Haal the 'fullScientifName' uit de .json dataset\n",
    "species_names = [entry['item']['identifications'][0]['scientificName']['fullScientificName'] for entry in data['resultSet']]\n",
    "\n",
    "# Dataframe maken van die dataset\n",
    "df = pd.DataFrame(species_names, columns=['Species Name'])\n",
    "\n",
    "# Print the DataFrame\n",
    "print(df)"
   ]
  }
 ],
 "metadata": {
  "kernelspec": {
   "display_name": ".venv",
   "language": "python",
   "name": "python3"
  },
  "language_info": {
   "codemirror_mode": {
    "name": "ipython",
    "version": 3
   },
   "file_extension": ".py",
   "mimetype": "text/x-python",
   "name": "python",
   "nbconvert_exporter": "python",
   "pygments_lexer": "ipython3",
   "version": "3.12.5"
  }
 },
 "nbformat": 4,
 "nbformat_minor": 2
}
