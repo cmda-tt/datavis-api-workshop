{
 "cells": [
  {
   "cell_type": "markdown",
   "id": "3b0b7bf9-35d1-4f3e-8ca5-faeb0db7f39d",
   "metadata": {
    "tags": []
   },
   "source": [
    "# Schiphol API\n",
    "\n",
    "## Metadata\n",
    "\n",
    "- **Vak**: ID Datavisualisatie\n",
    "- **Workshop**: Datavis API Workshop\n",
    "- **Lecturers**: Laura Benvenuti & Danny de Vries\n",
    "- **University**: Amsterdam University of Applied Sciences\n",
    "- **Programme**: Communication and Multimedia Design\n",
    "- **Faculty**: Digital Media and Creative Industries\n",
    "\n",
    "## Omschrijving\n",
    "\n",
    "Dit is een wat complexer notebook, een beetje een 'typisch' notebook die je zou verwachten als je data uit een api haalt en wilt plotten. De Schiphol API heeft authenticatie met een app key en meerdere endpoints om data uit verschillende datasets te halen. "
   ]
  },
  {
   "cell_type": "markdown",
   "id": "9de0a463",
   "metadata": {},
   "source": [
    "## Taken\n",
    "\n",
    "Dit notebook doet:\n",
    "\n",
    "* Een .csv met een export vanuit qualtrics inladen.\n",
    "* Opschonen tot alleen relevante data, weghalen van metadata zoals tijdstip. locatie etc.\n",
    "* Verwijderen van respondenten die de survey niet hebben afgemaakt.\n",
    "* Een schone .csv naar een map op je computer schrijven."
   ]
  },
  {
   "cell_type": "markdown",
   "id": "7ee36b07",
   "metadata": {},
   "source": [
    "### Check python versie"
   ]
  },
  {
   "cell_type": "code",
   "execution_count": 10,
   "id": "b77962f9",
   "metadata": {},
   "outputs": [
    {
     "name": "stdout",
     "output_type": "stream",
     "text": [
      "Running a sufficiently new version of Python.\n",
      "Current version: 3.12.5\n",
      "Minimum required version: 3.8\n"
     ]
    }
   ],
   "source": [
    "from packaging import version\n",
    "import platform\n",
    "import sys\n",
    "\n",
    "min_version = '3.8'\n",
    "\n",
    "def check_version(min_version):\n",
    "    current_version = sys.version.split()[0]\n",
    "    return version.parse(current_version) >= version.parse(min_version)\n",
    "\n",
    "# Example usage:\n",
    "if __name__ == \"__main__\":\n",
    "    if check_version(min_version):\n",
    "        print(\"Running a sufficiently new version of Python.\")\n",
    "        print(\"Current version: \" + platform.python_version())\n",
    "        print(\"Minimum required version: \" + min_version)\n",
    "    else:\n",
    "        print(\"Python version is too old. Upgrade to a newer version.\")"
   ]
  },
  {
   "cell_type": "markdown",
   "id": "e39e649e",
   "metadata": {},
   "source": [
    "### Packages installeren"
   ]
  },
  {
   "cell_type": "code",
   "execution_count": 11,
   "id": "7c5229f3",
   "metadata": {},
   "outputs": [
    {
     "name": "stdout",
     "output_type": "stream",
     "text": [
      "Requirement already satisfied: importlib in /Users/deckard/Repos/datavis-api-workshop/.venv/lib/python3.12/site-packages (1.0.4)\n",
      "Requirement already satisfied: requests in /Users/deckard/Repos/datavis-api-workshop/.venv/lib/python3.12/site-packages (2.32.3)\n",
      "Requirement already satisfied: charset-normalizer<4,>=2 in /Users/deckard/Repos/datavis-api-workshop/.venv/lib/python3.12/site-packages (from requests) (3.3.2)\n",
      "Requirement already satisfied: idna<4,>=2.5 in /Users/deckard/Repos/datavis-api-workshop/.venv/lib/python3.12/site-packages (from requests) (3.8)\n",
      "Requirement already satisfied: urllib3<3,>=1.21.1 in /Users/deckard/Repos/datavis-api-workshop/.venv/lib/python3.12/site-packages (from requests) (2.2.2)\n",
      "Requirement already satisfied: certifi>=2017.4.17 in /Users/deckard/Repos/datavis-api-workshop/.venv/lib/python3.12/site-packages (from requests) (2024.7.4)\n",
      "Requirement already satisfied: pandas in /Users/deckard/Repos/datavis-api-workshop/.venv/lib/python3.12/site-packages (2.2.2)\n",
      "Requirement already satisfied: numpy>=1.26.0 in /Users/deckard/Repos/datavis-api-workshop/.venv/lib/python3.12/site-packages (from pandas) (2.1.0)\n",
      "Requirement already satisfied: python-dateutil>=2.8.2 in /Users/deckard/Repos/datavis-api-workshop/.venv/lib/python3.12/site-packages (from pandas) (2.9.0.post0)\n",
      "Requirement already satisfied: pytz>=2020.1 in /Users/deckard/Repos/datavis-api-workshop/.venv/lib/python3.12/site-packages (from pandas) (2024.1)\n",
      "Requirement already satisfied: tzdata>=2022.7 in /Users/deckard/Repos/datavis-api-workshop/.venv/lib/python3.12/site-packages (from pandas) (2024.1)\n",
      "Requirement already satisfied: six>=1.5 in /Users/deckard/Repos/datavis-api-workshop/.venv/lib/python3.12/site-packages (from python-dateutil>=2.8.2->pandas) (1.16.0)\n",
      "Requirement already satisfied: tabulate in /Users/deckard/Repos/datavis-api-workshop/.venv/lib/python3.12/site-packages (0.9.0)\n",
      "Requirement already satisfied: geopy in /Users/deckard/Repos/datavis-api-workshop/.venv/lib/python3.12/site-packages (2.4.1)\n",
      "Requirement already satisfied: geographiclib<3,>=1.52 in /Users/deckard/Repos/datavis-api-workshop/.venv/lib/python3.12/site-packages (from geopy) (2.0)\n",
      "Requirement already satisfied: plotly in /Users/deckard/Repos/datavis-api-workshop/.venv/lib/python3.12/site-packages (5.23.0)\n",
      "Requirement already satisfied: tenacity>=6.2.0 in /Users/deckard/Repos/datavis-api-workshop/.venv/lib/python3.12/site-packages (from plotly) (9.0.0)\n",
      "Requirement already satisfied: packaging in /Users/deckard/Repos/datavis-api-workshop/.venv/lib/python3.12/site-packages (from plotly) (24.1)\n",
      "Requirement already satisfied: python-dotenv in /Users/deckard/Repos/datavis-api-workshop/.venv/lib/python3.12/site-packages (1.0.1)\n",
      "Requirement already satisfied: nbformat in /Users/deckard/Repos/datavis-api-workshop/.venv/lib/python3.12/site-packages (5.10.4)\n",
      "Requirement already satisfied: fastjsonschema>=2.15 in /Users/deckard/Repos/datavis-api-workshop/.venv/lib/python3.12/site-packages (from nbformat) (2.20.0)\n",
      "Requirement already satisfied: jsonschema>=2.6 in /Users/deckard/Repos/datavis-api-workshop/.venv/lib/python3.12/site-packages (from nbformat) (4.23.0)\n",
      "Requirement already satisfied: jupyter-core!=5.0.*,>=4.12 in /Users/deckard/Repos/datavis-api-workshop/.venv/lib/python3.12/site-packages (from nbformat) (5.7.2)\n",
      "Requirement already satisfied: traitlets>=5.1 in /Users/deckard/Repos/datavis-api-workshop/.venv/lib/python3.12/site-packages (from nbformat) (5.14.3)\n",
      "Requirement already satisfied: attrs>=22.2.0 in /Users/deckard/Repos/datavis-api-workshop/.venv/lib/python3.12/site-packages (from jsonschema>=2.6->nbformat) (24.2.0)\n",
      "Requirement already satisfied: jsonschema-specifications>=2023.03.6 in /Users/deckard/Repos/datavis-api-workshop/.venv/lib/python3.12/site-packages (from jsonschema>=2.6->nbformat) (2023.12.1)\n",
      "Requirement already satisfied: referencing>=0.28.4 in /Users/deckard/Repos/datavis-api-workshop/.venv/lib/python3.12/site-packages (from jsonschema>=2.6->nbformat) (0.35.1)\n",
      "Requirement already satisfied: rpds-py>=0.7.1 in /Users/deckard/Repos/datavis-api-workshop/.venv/lib/python3.12/site-packages (from jsonschema>=2.6->nbformat) (0.20.0)\n",
      "Requirement already satisfied: platformdirs>=2.5 in /Users/deckard/Repos/datavis-api-workshop/.venv/lib/python3.12/site-packages (from jupyter-core!=5.0.*,>=4.12->nbformat) (4.2.2)\n"
     ]
    }
   ],
   "source": [
    "!pip install importlib\n",
    "!pip install requests\n",
    "!pip install pandas\n",
    "!pip install tabulate\n",
    "!pip install geopy\n",
    "!pip install plotly\n",
    "!pip install python-dotenv\n",
    "!pip install nbformat"
   ]
  },
  {
   "cell_type": "markdown",
   "id": "d87fdb76",
   "metadata": {},
   "source": [
    "### Importeer packages"
   ]
  },
  {
   "cell_type": "code",
   "execution_count": 12,
   "id": "29c0557b-973e-4a0f-8277-003c1a3bbafd",
   "metadata": {},
   "outputs": [],
   "source": [
    "import subprocess\n",
    "import importlib.util\n",
    "import requests\n",
    "import sys\n",
    "import os\n",
    "import nbformat\n",
    "import pandas as pd\n",
    "from tabulate import tabulate\n",
    "from geopy.geocoders import Nominatim\n",
    "import plotly.graph_objs as go\n",
    "from dotenv import load_dotenv\n"
   ]
  },
  {
   "cell_type": "markdown",
   "id": "112365e2-df09-434c-8a02-f613b7d50207",
   "metadata": {},
   "source": [
    "### Data ophalen van verschillende API endpoints"
   ]
  },
  {
   "cell_type": "code",
   "execution_count": 13,
   "id": "58c6d2aa-d613-41f7-bdab-f3c026d5b964",
   "metadata": {
    "tags": []
   },
   "outputs": [
    {
     "name": "stdout",
     "output_type": "stream",
     "text": [
      "Flights DataFrame:\n",
      "                   lastUpdatedAt              actualLandingTime  \\\n",
      "0  2024-02-14T02:01:20.213+01:00  2024-02-13T23:49:52.000+01:00   \n",
      "1  2024-02-14T02:01:20.213+01:00  2024-02-13T23:49:52.000+01:00   \n",
      "2  2024-02-14T02:00:00.196+01:00  2024-02-14T00:16:29.000+01:00   \n",
      "3  2024-02-14T02:00:00.196+01:00  2024-02-14T00:16:29.000+01:00   \n",
      "4  2024-02-14T02:00:00.196+01:00  2024-02-14T00:16:29.000+01:00   \n",
      "\n",
      "                            aircraftType       baggageClaim  \\\n",
      "0  {'iataMain': '737', 'iataSub': '73H'}   {'belts': ['6']}   \n",
      "1  {'iataMain': '737', 'iataSub': '73H'}   {'belts': ['6']}   \n",
      "2  {'iataMain': '737', 'iataSub': '73H'}  {'belts': ['15']}   \n",
      "3  {'iataMain': '737', 'iataSub': '73H'}  {'belts': ['15']}   \n",
      "4  {'iataMain': '737', 'iataSub': '73H'}  {'belts': ['15']}   \n",
      "\n",
      "                             codeshares           estimatedLandingTime  \\\n",
      "0            {'codeshares': ['KL2746']}  2024-02-13T23:50:32.000+01:00   \n",
      "1            {'codeshares': ['KL2746']}  2024-02-13T23:50:32.000+01:00   \n",
      "2  {'codeshares': ['DL7502', 'KL2573']}  2024-02-14T00:16:13.000+01:00   \n",
      "3  {'codeshares': ['DL7502', 'KL2573']}  2024-02-14T00:16:13.000+01:00   \n",
      "4  {'codeshares': ['DL7502', 'KL2573']}  2024-02-14T00:16:13.000+01:00   \n",
      "\n",
      "              expectedTimeOnBelt flightDirection flightName  flightNumber  \\\n",
      "0  2024-02-14T00:29:20.876+01:00               A     HV6888          6888   \n",
      "1  2024-02-14T00:29:20.876+01:00               A     KL2746          2746   \n",
      "2  2024-02-14T01:27:50.814+01:00               A     DL7502          7502   \n",
      "3  2024-02-14T01:27:50.814+01:00               A     HV5666          5666   \n",
      "4  2024-02-14T01:27:50.814+01:00               A     KL2573          2573   \n",
      "\n",
      "   ... prefixICAO  airlineCode                 publicFlightState  \\\n",
      "0  ...        TRA          164  {'flightStates': ['ARR', 'EXP']}   \n",
      "1  ...        KLM          100  {'flightStates': ['ARR', 'EXP']}   \n",
      "2  ...        DAL           58  {'flightStates': ['ARR', 'EXP']}   \n",
      "3  ...        TRA          164  {'flightStates': ['ARR', 'EXP']}   \n",
      "4  ...        KLM          100  {'flightStates': ['ARR', 'EXP']}   \n",
      "\n",
      "                                               route  \\\n",
      "0  {'destinations': ['KEF'], 'eu': 'S', 'visa': F...   \n",
      "1  {'destinations': ['KEF'], 'eu': 'S', 'visa': F...   \n",
      "2  {'destinations': ['LPA'], 'eu': 'S', 'visa': F...   \n",
      "3  {'destinations': ['LPA'], 'eu': 'S', 'visa': F...   \n",
      "4  {'destinations': ['LPA'], 'eu': 'S', 'visa': F...   \n",
      "\n",
      "                scheduleDateTime  scheduleDate scheduleTime serviceType  \\\n",
      "0  2024-02-14T00:10:00.000+01:00    2024-02-14     00:10:00           J   \n",
      "1  2024-02-14T00:10:00.000+01:00    2024-02-14     00:10:00           J   \n",
      "2  2024-02-14T00:30:00.000+01:00    2024-02-14     00:30:00           J   \n",
      "3  2024-02-14T00:30:00.000+01:00    2024-02-14     00:30:00           J   \n",
      "4  2024-02-14T00:30:00.000+01:00    2024-02-14     00:30:00           J   \n",
      "\n",
      "  terminal schemaVersion  \n",
      "0      1.0             4  \n",
      "1      1.0             4  \n",
      "2      3.0             4  \n",
      "3      3.0             4  \n",
      "4      3.0             4  \n",
      "\n",
      "[5 rows x 24 columns]\n",
      "\n",
      "Aircraft Types DataFrame:\n",
      "  iataMain iataSub                      longDescription shortDescription\n",
      "0      100     100                           FOKKER 100            FK100\n",
      "1      146     142  BRITISH AEROSPACE 146-200 PASSENGER     BAE 146-200P\n",
      "2      146     141            BRITISH AEROSPACE 146-100      BAE 146-100\n",
      "3      146     143            BRITISH AEROSPACE 146-300      BAE 146-300\n",
      "4      14F     14Y  BRITISH AEROSPACE 146-200 FREIGHTER     BAE 146-200F\n",
      "\n",
      "Airlines DataFrame:\n",
      "  iata icao  nvls        publicName\n",
      "0   0B  BLA  5191          Blue Air\n",
      "1   2F  EZZ  5316       ETF Airways\n",
      "2   2L  OAW   449          Helvetic\n",
      "3   2N  LYX  5259  Smart Lynx Malta\n",
      "4   2W  WFL  5309         World2fly\n",
      "\n",
      "Destinations DataFrame:\n",
      "          country iata                                         publicName  \\\n",
      "0  French Polynes  AAA       {'dutch': 'Anaa, TU', 'english': 'Anaa, TU'}   \n",
      "1       Australia  AAB  {'dutch': 'Arrabury, QL', 'english': 'Arrabury...   \n",
      "2           Egypt  AAC       {'dutch': 'Al-Arish', 'english': 'Al-Arish'}   \n",
      "3           Sudan  AAD     {'dutch': 'Ad-Dabbah', 'english': 'Ad-Dabbah'}   \n",
      "4         Algeria  AAE           {'dutch': 'Annaba', 'english': 'Annaba'}   \n",
      "\n",
      "        city  \n",
      "0        NaN  \n",
      "1        NaN  \n",
      "2   Al-Arish  \n",
      "3  Ad-Dabbah  \n",
      "4     Annaba  \n"
     ]
    }
   ],
   "source": [
    "# Load environment variables from .env file\n",
    "load_dotenv()\n",
    "\n",
    "\n",
    "def fetch_all_data(url_template, key):\n",
    "    headers = {\n",
    "        'accept': 'application/json',\n",
    "        'resourceversion': 'v4',\n",
    "        'app_id': os.getenv('SCHIPHOL_APP_ID'),\n",
    "        'app_key': os.getenv('SCHIPHOL_APP_KEY')\n",
    "    }\n",
    "\n",
    "    all_data = []\n",
    "    page = 1  # Start with page 1\n",
    "\n",
    "    \n",
    "    while page <= 1: #You can change this number to retrieve more pages but for this proof of concept we're only using the first page\n",
    "        try:\n",
    "            url = url_template.format(page)\n",
    "            response = requests.get(url, headers=headers)\n",
    "            response.raise_for_status()\n",
    "            data = response.json()\n",
    "            page_data = data.get(key, [])\n",
    "            if not page_data:\n",
    "                break  # If no more data in the page, exit the loop\n",
    "            all_data.extend(page_data)\n",
    "            page += 1  # Move to the next page\n",
    "        except requests.exceptions.RequestException as error:\n",
    "            print(error)\n",
    "            sys.exit()  # If an error occurs, print error message and exit the program\n",
    "\n",
    "    return all_data\n",
    "\n",
    "if __name__ == '__main__':\n",
    "    date = '2024-02-14'  # Set date for which the data is retrieved, this can be any other date\n",
    "\n",
    "    # Define all the four endpoints\n",
    "    endpoints = {\n",
    "        'flights': {'url': f'https://api.schiphol.nl/public-flights/flights?scheduleDate={date}', 'key': 'flights'},\n",
    "        'aircraft_types': {'url': 'https://api.schiphol.nl/public-flights/aircrafttypes', 'key': 'aircraftTypes'},\n",
    "        'airlines': {'url': 'https://api.schiphol.nl/public-flights/airlines', 'key': 'airlines'},\n",
    "        'destinations': {'url': 'https://api.schiphol.nl/public-flights/destinations', 'key': 'destinations'}\n",
    "    }\n",
    "\n",
    "    # Fetch data from each endpoint \n",
    "    all_data = {}\n",
    "    for endpoint, config in endpoints.items():\n",
    "        all_data[endpoint] = fetch_all_data(config['url'], config['key'])\n",
    "\n",
    "    # Create dataframes for each endpoint using pandas\n",
    "    dfs = {}\n",
    "    for endpoint, data in all_data.items():\n",
    "        dfs[endpoint] = pd.DataFrame(data)\n",
    "\n",
    "  \n",
    "    # Print a sample from each DataFrame to check if it all worked \n",
    "    print(\"Flights DataFrame:\")\n",
    "    print(dfs['flights'].head())\n",
    "\n",
    "    print(\"\\nAircraft Types DataFrame:\")\n",
    "    print(dfs['aircraft_types'].head())\n",
    "\n",
    "    print(\"\\nAirlines DataFrame:\")\n",
    "    print(dfs['airlines'].head())\n",
    "\n",
    "    print(\"\\nDestinations DataFrame:\")\n",
    "    print(dfs['destinations'].head())\n"
   ]
  },
  {
   "cell_type": "markdown",
   "id": "13a212dc-8ab8-4b21-b704-751e36a24536",
   "metadata": {},
   "source": [
    "## Samenvoegen van data"
   ]
  },
  {
   "cell_type": "code",
   "execution_count": 14,
   "id": "07d17f45-de56-43ad-8a51-77b272cd0ab6",
   "metadata": {
    "tags": []
   },
   "outputs": [
    {
     "name": "stdout",
     "output_type": "stream",
     "text": [
      "Sample of the Merged DataFrame:\n",
      "                   lastUpdatedAt              actualLandingTime  \\\n",
      "0  2024-02-14T02:01:20.213+01:00  2024-02-13T23:49:52.000+01:00   \n",
      "1  2024-02-14T02:01:20.213+01:00  2024-02-13T23:49:52.000+01:00   \n",
      "2  2024-02-14T02:00:00.196+01:00  2024-02-14T00:16:29.000+01:00   \n",
      "3  2024-02-14T02:00:00.196+01:00  2024-02-14T00:16:29.000+01:00   \n",
      "4  2024-02-14T02:00:00.196+01:00  2024-02-14T00:16:29.000+01:00   \n",
      "\n",
      "                            aircraftType       baggageClaim  \\\n",
      "0  {'iataMain': '737', 'iataSub': '73H'}   {'belts': ['6']}   \n",
      "1  {'iataMain': '737', 'iataSub': '73H'}   {'belts': ['6']}   \n",
      "2  {'iataMain': '737', 'iataSub': '73H'}  {'belts': ['15']}   \n",
      "3  {'iataMain': '737', 'iataSub': '73H'}  {'belts': ['15']}   \n",
      "4  {'iataMain': '737', 'iataSub': '73H'}  {'belts': ['15']}   \n",
      "\n",
      "                             codeshares           estimatedLandingTime  \\\n",
      "0            {'codeshares': ['KL2746']}  2024-02-13T23:50:32.000+01:00   \n",
      "1            {'codeshares': ['KL2746']}  2024-02-13T23:50:32.000+01:00   \n",
      "2  {'codeshares': ['DL7502', 'KL2573']}  2024-02-14T00:16:13.000+01:00   \n",
      "3  {'codeshares': ['DL7502', 'KL2573']}  2024-02-14T00:16:13.000+01:00   \n",
      "4  {'codeshares': ['DL7502', 'KL2573']}  2024-02-14T00:16:13.000+01:00   \n",
      "\n",
      "              expectedTimeOnBelt flightDirection flightName  flightNumber  \\\n",
      "0  2024-02-14T00:29:20.876+01:00               A     HV6888          6888   \n",
      "1  2024-02-14T00:29:20.876+01:00               A     KL2746          2746   \n",
      "2  2024-02-14T01:27:50.814+01:00               A     DL7502          7502   \n",
      "3  2024-02-14T01:27:50.814+01:00               A     HV5666          5666   \n",
      "4  2024-02-14T01:27:50.814+01:00               A     KL2573          2573   \n",
      "\n",
      "   ...                      longDescription  shortDescription iata icao  nvls  \\\n",
      "0  ...                           FOKKER 100             FK100   0B  BLA  5191   \n",
      "1  ...  BRITISH AEROSPACE 146-200 PASSENGER      BAE 146-200P   2F  EZZ  5316   \n",
      "2  ...            BRITISH AEROSPACE 146-100       BAE 146-100   2L  OAW   449   \n",
      "3  ...            BRITISH AEROSPACE 146-300       BAE 146-300   2N  LYX  5259   \n",
      "4  ...  BRITISH AEROSPACE 146-200 FREIGHTER      BAE 146-200F   2W  WFL  5309   \n",
      "\n",
      "            airline         country iata  \\\n",
      "0          Blue Air  French Polynes  AAA   \n",
      "1       ETF Airways       Australia  AAB   \n",
      "2          Helvetic           Egypt  AAC   \n",
      "3  Smart Lynx Malta           Sudan  AAD   \n",
      "4         World2fly         Algeria  AAE   \n",
      "\n",
      "                              publicName destination       city  \n",
      "0       {'dutch': 'Anaa, TU', 'english': 'Anaa, TU'}        NaN  \n",
      "1  {'dutch': 'Arrabury, QL', 'english': 'Arrabury...        NaN  \n",
      "2       {'dutch': 'Al-Arish', 'english': 'Al-Arish'}   Al-Arish  \n",
      "3     {'dutch': 'Ad-Dabbah', 'english': 'Ad-Dabbah'}  Ad-Dabbah  \n",
      "4           {'dutch': 'Annaba', 'english': 'Annaba'}     Annaba  \n",
      "\n",
      "[5 rows x 36 columns]\n"
     ]
    }
   ],
   "source": [
    "# Rename the 'publicName' column from the airline DataFrame to 'Airline'\n",
    "dfs['airlines'].rename(columns={'publicName': 'airline'}, inplace=True)\n",
    "\n",
    "# Rename the 'publicName' column from the destinations DataFrame to 'publicName destination'\n",
    "dfs['destinations'].rename(columns={'publicName': 'publicName destination'}, inplace=True)\n",
    "\n",
    "# Merge dataframes based on index\n",
    "merged_df = pd.concat([dfs['flights'], dfs['aircraft_types'], dfs['airlines'], dfs['destinations']], axis=1)\n",
    "\n",
    "# Print a sample of the merged dataframe\n",
    "print(\"Sample of the Merged DataFrame:\")\n",
    "print(merged_df.head())\n"
   ]
  },
  {
   "cell_type": "markdown",
   "id": "643215bc",
   "metadata": {},
   "source": [
    "### Landen van vluchten ophalen"
   ]
  },
  {
   "cell_type": "code",
   "execution_count": 15,
   "id": "2a42431e-30fe-4a2e-ac17-59f1217730ef",
   "metadata": {
    "tags": []
   },
   "outputs": [
    {
     "name": "stdout",
     "output_type": "stream",
     "text": [
      "\n",
      "Summary of destinations:\n",
      "| country        |   count |\n",
      "|:---------------|--------:|\n",
      "| Danmark        |       2 |\n",
      "| USA            |       2 |\n",
      "| Brazil         |       2 |\n",
      "| French Polynes |       1 |\n",
      "| Indonesia      |       1 |\n",
      "| Russia (CIS)   |       1 |\n",
      "| Venezuela      |       1 |\n",
      "| United Arab Em |       1 |\n",
      "| South Africa   |       1 |\n",
      "| Surinam        |       1 |\n",
      "| Kiribati       |       1 |\n",
      "| Australia      |       1 |\n",
      "| Germany        |       1 |\n",
      "| Algeria        |       1 |\n",
      "| Sudan          |       1 |\n",
      "| Egypt          |       1 |\n",
      "| China          |       1 |\n",
      "\n",
      "Most Used Aircraft Type: {'iataMain': '737', 'iataSub': '73H'}\n"
     ]
    }
   ],
   "source": [
    "\n",
    "# Summary of the destination countries \n",
    "country_summary = merged_df['country'].value_counts()\n",
    "\n",
    "# Convert to APA format\n",
    "country_summary_apa = country_summary.to_frame().to_markdown(tablefmt=\"pipe\")\n",
    "\n",
    "# Check what the most used aircraft type is\n",
    "most_used_aircraft_type = merged_df['aircraftType'].value_counts().idxmax()\n",
    "\n",
    "print(\"\\nSummary of destinations:\")\n",
    "print(country_summary_apa)\n",
    "print(\"\\nMost Used Aircraft Type:\", most_used_aircraft_type)\n"
   ]
  },
  {
   "cell_type": "markdown",
   "id": "600e1a54-309c-4c37-a62b-0d89672220ec",
   "metadata": {},
   "source": [
    "### Vertragingen van vluchten."
   ]
  },
  {
   "cell_type": "code",
   "execution_count": 16,
   "id": "02d05a14-7f40-4a23-8c40-433b9c620586",
   "metadata": {
    "tags": []
   },
   "outputs": [
    {
     "name": "stdout",
     "output_type": "stream",
     "text": [
      "Top 3 Delayed Airlines:\n",
      "| actualLandingTime         | estimatedLandingTime      | country        | airline   | arrival_delay   |\n",
      "|:--------------------------|:--------------------------|:---------------|:----------|:----------------|\n",
      "| 2024-02-14 06:04:03+01:00 | 2024-02-14 06:04:47+01:00 | Indonesia      | Air Anka  | 0 days 00:00:44 |\n",
      "| 2024-02-14 05:34:08+01:00 | 2024-02-14 05:34:51+01:00 | Surinam        | Flyone    | 0 days 00:00:43 |\n",
      "| 2024-02-13 23:49:52+01:00 | 2024-02-13 23:50:32+01:00 | French Polynes | Blue Air  | 0 days 00:00:40 |\n",
      "Maybe reconsider flying with ['Air Anka', 'Flyone', 'Blue Air'] if you want to be sure your flight is on time.\n"
     ]
    }
   ],
   "source": [
    "# Convert 'estimatedLandingTime' and 'actualLandingTime' to datetime objects\n",
    "merged_df['estimatedLandingTime'] = pd.to_datetime(merged_df['estimatedLandingTime'])\n",
    "merged_df['actualLandingTime'] = pd.to_datetime(merged_df['actualLandingTime'])\n",
    "\n",
    "# Calculate arrival_delay\n",
    "merged_df['arrival_delay'] = merged_df['estimatedLandingTime'] - merged_df['actualLandingTime']\n",
    "\n",
    "# Sort DataFrame based on delay in days\n",
    "sorted_df = merged_df.sort_values(by='arrival_delay', ascending=False)\n",
    "\n",
    "# Extract top 3 rows with highest delay\n",
    "top_3_delayed_airlines = sorted_df[['actualLandingTime', 'estimatedLandingTime', 'country', 'airline', 'arrival_delay']].head(3)\n",
    "\n",
    "# Convert DataFrame to APA 7 table format\n",
    "apa_table = tabulate(top_3_delayed_airlines, headers='keys', tablefmt='pipe', showindex=False)\n",
    "\n",
    "# Display the APA 7 formatted table\n",
    "print(\"Top 3 Delayed Airlines:\")\n",
    "print(apa_table)\n",
    "\n",
    "print(f\"Maybe reconsider flying with {top_3_delayed_airlines['airline'].values.tolist()} if you want to be sure your flight is on time.\")"
   ]
  },
  {
   "cell_type": "markdown",
   "id": "e1b2a4b9-f4d7-4dc4-8dee-e6b51e9ecbb4",
   "metadata": {},
   "source": [
    "## Landnamen omzetten naar lat en long"
   ]
  },
  {
   "cell_type": "code",
   "execution_count": 17,
   "id": "20f2ffe7-471a-423a-ace7-3fc9d27dba49",
   "metadata": {
    "tags": []
   },
   "outputs": [
    {
     "name": "stdout",
     "output_type": "stream",
     "text": [
      "     latitude   longitude         country\n",
      "0         NaN         NaN  French Polynes\n",
      "1  -24.776109  134.755000       Australia\n",
      "2   26.254049   29.267547           Egypt\n",
      "3   10.900000    6.500000           Sudan\n",
      "4   28.000027    2.999983         Algeria\n",
      "5   39.783730 -100.445882             USA\n",
      "6  -10.333333  -53.200000          Brazil\n",
      "7   51.163818   10.447831         Germany\n",
      "8  -10.333333  -53.200000          Brazil\n",
      "9    4.141303  -56.077119         Surinam\n",
      "10   0.344861  173.664177        Kiribati\n",
      "11  55.670249   10.333328         Danmark\n",
      "12 -28.816624   24.991639    South Africa\n",
      "13        NaN         NaN  United Arab Em\n",
      "14   8.001871  -66.110932       Venezuela\n",
      "15  39.783730 -100.445882             USA\n",
      "16  59.615664   91.162453    Russia (CIS)\n",
      "17  55.670249   10.333328         Danmark\n",
      "18  -2.483383  117.890285       Indonesia\n",
      "19  35.000074  104.999927           China\n"
     ]
    }
   ],
   "source": [
    "geolocator = Nominatim(user_agent=\"my_geocoder\")\n",
    "\n",
    "def get_coordinates(country):\n",
    "    location = geolocator.geocode(country)\n",
    "    if location:\n",
    "        return (location.latitude, location.longitude)\n",
    "    else:\n",
    "        return (None, None)  # Return None for latitude and longitude if country not found\n",
    "\n",
    "# Add the function to 'country' column to get coördinates\n",
    "merged_df['latitude'], merged_df['longitude'] = zip(*merged_df['country'].apply(get_coordinates))\n",
    "\n",
    "print(merged_df[['latitude', 'longitude', 'country']]) # Check if it worked"
   ]
  },
  {
   "cell_type": "markdown",
   "id": "a7754e3a-6b6c-48a1-90c5-8c7a212639f1",
   "metadata": {},
   "source": [
    "### Visualiseren van de vluchten op een kaart"
   ]
  },
  {
   "cell_type": "code",
   "execution_count": 18,
   "id": "d8048f0b-14ef-4599-a106-19d43c945018",
   "metadata": {
    "tags": []
   },
   "outputs": [
    {
     "data": {
      "application/vnd.plotly.v1+json": {
       "config": {
        "plotlyServerURL": "https://plot.ly"
       },
       "data": [
        {
         "lat": [
          52.1326,
          null
         ],
         "line": {
          "color": "pink",
          "width": 1
         },
         "lon": [
          5.2913,
          null
         ],
         "mode": "lines",
         "name": "French Polynes",
         "type": "scattergeo"
        },
        {
         "lat": [
          52.1326,
          -24.7761086
         ],
         "line": {
          "color": "pink",
          "width": 1
         },
         "lon": [
          5.2913,
          134.755
         ],
         "mode": "lines",
         "name": "Australia",
         "type": "scattergeo"
        },
        {
         "lat": [
          52.1326,
          26.2540493
         ],
         "line": {
          "color": "pink",
          "width": 1
         },
         "lon": [
          5.2913,
          29.2675469
         ],
         "mode": "lines",
         "name": "Egypt",
         "type": "scattergeo"
        },
        {
         "lat": [
          52.1326,
          10.9
         ],
         "line": {
          "color": "pink",
          "width": 1
         },
         "lon": [
          5.2913,
          6.5
         ],
         "mode": "lines",
         "name": "Sudan",
         "type": "scattergeo"
        },
        {
         "lat": [
          52.1326,
          28.0000272
         ],
         "line": {
          "color": "pink",
          "width": 1
         },
         "lon": [
          5.2913,
          2.9999825
         ],
         "mode": "lines",
         "name": "Algeria",
         "type": "scattergeo"
        },
        {
         "lat": [
          52.1326,
          39.7837304
         ],
         "line": {
          "color": "pink",
          "width": 1
         },
         "lon": [
          5.2913,
          -100.445882
         ],
         "mode": "lines",
         "name": "USA",
         "type": "scattergeo"
        },
        {
         "lat": [
          52.1326,
          -10.3333333
         ],
         "line": {
          "color": "pink",
          "width": 1
         },
         "lon": [
          5.2913,
          -53.2
         ],
         "mode": "lines",
         "name": "Brazil",
         "type": "scattergeo"
        },
        {
         "lat": [
          52.1326,
          51.1638175
         ],
         "line": {
          "color": "pink",
          "width": 1
         },
         "lon": [
          5.2913,
          10.4478313
         ],
         "mode": "lines",
         "name": "Germany",
         "type": "scattergeo"
        },
        {
         "lat": [
          52.1326,
          -10.3333333
         ],
         "line": {
          "color": "pink",
          "width": 1
         },
         "lon": [
          5.2913,
          -53.2
         ],
         "mode": "lines",
         "name": "Brazil",
         "type": "scattergeo"
        },
        {
         "lat": [
          52.1326,
          4.1413025
         ],
         "line": {
          "color": "pink",
          "width": 1
         },
         "lon": [
          5.2913,
          -56.0771187
         ],
         "mode": "lines",
         "name": "Surinam",
         "type": "scattergeo"
        },
        {
         "lat": [
          52.1326,
          0.3448612
         ],
         "line": {
          "color": "pink",
          "width": 1
         },
         "lon": [
          5.2913,
          173.6641773
         ],
         "mode": "lines",
         "name": "Kiribati",
         "type": "scattergeo"
        },
        {
         "lat": [
          52.1326,
          55.670249
         ],
         "line": {
          "color": "pink",
          "width": 1
         },
         "lon": [
          5.2913,
          10.3333283
         ],
         "mode": "lines",
         "name": "Danmark",
         "type": "scattergeo"
        },
        {
         "lat": [
          52.1326,
          -28.8166236
         ],
         "line": {
          "color": "pink",
          "width": 1
         },
         "lon": [
          5.2913,
          24.991639
         ],
         "mode": "lines",
         "name": "South Africa",
         "type": "scattergeo"
        },
        {
         "lat": [
          52.1326,
          null
         ],
         "line": {
          "color": "pink",
          "width": 1
         },
         "lon": [
          5.2913,
          null
         ],
         "mode": "lines",
         "name": "United Arab Em",
         "type": "scattergeo"
        },
        {
         "lat": [
          52.1326,
          8.0018709
         ],
         "line": {
          "color": "pink",
          "width": 1
         },
         "lon": [
          5.2913,
          -66.1109318
         ],
         "mode": "lines",
         "name": "Venezuela",
         "type": "scattergeo"
        },
        {
         "lat": [
          52.1326,
          39.7837304
         ],
         "line": {
          "color": "pink",
          "width": 1
         },
         "lon": [
          5.2913,
          -100.445882
         ],
         "mode": "lines",
         "name": "USA",
         "type": "scattergeo"
        },
        {
         "lat": [
          52.1326,
          59.6156642
         ],
         "line": {
          "color": "pink",
          "width": 1
         },
         "lon": [
          5.2913,
          91.1624528
         ],
         "mode": "lines",
         "name": "Russia (CIS)",
         "type": "scattergeo"
        },
        {
         "lat": [
          52.1326,
          55.670249
         ],
         "line": {
          "color": "pink",
          "width": 1
         },
         "lon": [
          5.2913,
          10.3333283
         ],
         "mode": "lines",
         "name": "Danmark",
         "type": "scattergeo"
        },
        {
         "lat": [
          52.1326,
          -2.4833826
         ],
         "line": {
          "color": "pink",
          "width": 1
         },
         "lon": [
          5.2913,
          117.8902853
         ],
         "mode": "lines",
         "name": "Indonesia",
         "type": "scattergeo"
        },
        {
         "lat": [
          52.1326,
          35.000074
         ],
         "line": {
          "color": "pink",
          "width": 1
         },
         "lon": [
          5.2913,
          104.999927
         ],
         "mode": "lines",
         "name": "China",
         "type": "scattergeo"
        }
       ],
       "layout": {
        "geo": {
         "countrycolor": "rgb(204, 204, 204)",
         "landcolor": "rgb(243, 243, 243)",
         "projection": {
          "scale": 1
         },
         "showland": true
        },
        "height": 800,
        "showlegend": false,
        "template": {
         "data": {
          "bar": [
           {
            "error_x": {
             "color": "#2a3f5f"
            },
            "error_y": {
             "color": "#2a3f5f"
            },
            "marker": {
             "line": {
              "color": "#E5ECF6",
              "width": 0.5
             },
             "pattern": {
              "fillmode": "overlay",
              "size": 10,
              "solidity": 0.2
             }
            },
            "type": "bar"
           }
          ],
          "barpolar": [
           {
            "marker": {
             "line": {
              "color": "#E5ECF6",
              "width": 0.5
             },
             "pattern": {
              "fillmode": "overlay",
              "size": 10,
              "solidity": 0.2
             }
            },
            "type": "barpolar"
           }
          ],
          "carpet": [
           {
            "aaxis": {
             "endlinecolor": "#2a3f5f",
             "gridcolor": "white",
             "linecolor": "white",
             "minorgridcolor": "white",
             "startlinecolor": "#2a3f5f"
            },
            "baxis": {
             "endlinecolor": "#2a3f5f",
             "gridcolor": "white",
             "linecolor": "white",
             "minorgridcolor": "white",
             "startlinecolor": "#2a3f5f"
            },
            "type": "carpet"
           }
          ],
          "choropleth": [
           {
            "colorbar": {
             "outlinewidth": 0,
             "ticks": ""
            },
            "type": "choropleth"
           }
          ],
          "contour": [
           {
            "colorbar": {
             "outlinewidth": 0,
             "ticks": ""
            },
            "colorscale": [
             [
              0,
              "#0d0887"
             ],
             [
              0.1111111111111111,
              "#46039f"
             ],
             [
              0.2222222222222222,
              "#7201a8"
             ],
             [
              0.3333333333333333,
              "#9c179e"
             ],
             [
              0.4444444444444444,
              "#bd3786"
             ],
             [
              0.5555555555555556,
              "#d8576b"
             ],
             [
              0.6666666666666666,
              "#ed7953"
             ],
             [
              0.7777777777777778,
              "#fb9f3a"
             ],
             [
              0.8888888888888888,
              "#fdca26"
             ],
             [
              1,
              "#f0f921"
             ]
            ],
            "type": "contour"
           }
          ],
          "contourcarpet": [
           {
            "colorbar": {
             "outlinewidth": 0,
             "ticks": ""
            },
            "type": "contourcarpet"
           }
          ],
          "heatmap": [
           {
            "colorbar": {
             "outlinewidth": 0,
             "ticks": ""
            },
            "colorscale": [
             [
              0,
              "#0d0887"
             ],
             [
              0.1111111111111111,
              "#46039f"
             ],
             [
              0.2222222222222222,
              "#7201a8"
             ],
             [
              0.3333333333333333,
              "#9c179e"
             ],
             [
              0.4444444444444444,
              "#bd3786"
             ],
             [
              0.5555555555555556,
              "#d8576b"
             ],
             [
              0.6666666666666666,
              "#ed7953"
             ],
             [
              0.7777777777777778,
              "#fb9f3a"
             ],
             [
              0.8888888888888888,
              "#fdca26"
             ],
             [
              1,
              "#f0f921"
             ]
            ],
            "type": "heatmap"
           }
          ],
          "heatmapgl": [
           {
            "colorbar": {
             "outlinewidth": 0,
             "ticks": ""
            },
            "colorscale": [
             [
              0,
              "#0d0887"
             ],
             [
              0.1111111111111111,
              "#46039f"
             ],
             [
              0.2222222222222222,
              "#7201a8"
             ],
             [
              0.3333333333333333,
              "#9c179e"
             ],
             [
              0.4444444444444444,
              "#bd3786"
             ],
             [
              0.5555555555555556,
              "#d8576b"
             ],
             [
              0.6666666666666666,
              "#ed7953"
             ],
             [
              0.7777777777777778,
              "#fb9f3a"
             ],
             [
              0.8888888888888888,
              "#fdca26"
             ],
             [
              1,
              "#f0f921"
             ]
            ],
            "type": "heatmapgl"
           }
          ],
          "histogram": [
           {
            "marker": {
             "pattern": {
              "fillmode": "overlay",
              "size": 10,
              "solidity": 0.2
             }
            },
            "type": "histogram"
           }
          ],
          "histogram2d": [
           {
            "colorbar": {
             "outlinewidth": 0,
             "ticks": ""
            },
            "colorscale": [
             [
              0,
              "#0d0887"
             ],
             [
              0.1111111111111111,
              "#46039f"
             ],
             [
              0.2222222222222222,
              "#7201a8"
             ],
             [
              0.3333333333333333,
              "#9c179e"
             ],
             [
              0.4444444444444444,
              "#bd3786"
             ],
             [
              0.5555555555555556,
              "#d8576b"
             ],
             [
              0.6666666666666666,
              "#ed7953"
             ],
             [
              0.7777777777777778,
              "#fb9f3a"
             ],
             [
              0.8888888888888888,
              "#fdca26"
             ],
             [
              1,
              "#f0f921"
             ]
            ],
            "type": "histogram2d"
           }
          ],
          "histogram2dcontour": [
           {
            "colorbar": {
             "outlinewidth": 0,
             "ticks": ""
            },
            "colorscale": [
             [
              0,
              "#0d0887"
             ],
             [
              0.1111111111111111,
              "#46039f"
             ],
             [
              0.2222222222222222,
              "#7201a8"
             ],
             [
              0.3333333333333333,
              "#9c179e"
             ],
             [
              0.4444444444444444,
              "#bd3786"
             ],
             [
              0.5555555555555556,
              "#d8576b"
             ],
             [
              0.6666666666666666,
              "#ed7953"
             ],
             [
              0.7777777777777778,
              "#fb9f3a"
             ],
             [
              0.8888888888888888,
              "#fdca26"
             ],
             [
              1,
              "#f0f921"
             ]
            ],
            "type": "histogram2dcontour"
           }
          ],
          "mesh3d": [
           {
            "colorbar": {
             "outlinewidth": 0,
             "ticks": ""
            },
            "type": "mesh3d"
           }
          ],
          "parcoords": [
           {
            "line": {
             "colorbar": {
              "outlinewidth": 0,
              "ticks": ""
             }
            },
            "type": "parcoords"
           }
          ],
          "pie": [
           {
            "automargin": true,
            "type": "pie"
           }
          ],
          "scatter": [
           {
            "fillpattern": {
             "fillmode": "overlay",
             "size": 10,
             "solidity": 0.2
            },
            "type": "scatter"
           }
          ],
          "scatter3d": [
           {
            "line": {
             "colorbar": {
              "outlinewidth": 0,
              "ticks": ""
             }
            },
            "marker": {
             "colorbar": {
              "outlinewidth": 0,
              "ticks": ""
             }
            },
            "type": "scatter3d"
           }
          ],
          "scattercarpet": [
           {
            "marker": {
             "colorbar": {
              "outlinewidth": 0,
              "ticks": ""
             }
            },
            "type": "scattercarpet"
           }
          ],
          "scattergeo": [
           {
            "marker": {
             "colorbar": {
              "outlinewidth": 0,
              "ticks": ""
             }
            },
            "type": "scattergeo"
           }
          ],
          "scattergl": [
           {
            "marker": {
             "colorbar": {
              "outlinewidth": 0,
              "ticks": ""
             }
            },
            "type": "scattergl"
           }
          ],
          "scattermapbox": [
           {
            "marker": {
             "colorbar": {
              "outlinewidth": 0,
              "ticks": ""
             }
            },
            "type": "scattermapbox"
           }
          ],
          "scatterpolar": [
           {
            "marker": {
             "colorbar": {
              "outlinewidth": 0,
              "ticks": ""
             }
            },
            "type": "scatterpolar"
           }
          ],
          "scatterpolargl": [
           {
            "marker": {
             "colorbar": {
              "outlinewidth": 0,
              "ticks": ""
             }
            },
            "type": "scatterpolargl"
           }
          ],
          "scatterternary": [
           {
            "marker": {
             "colorbar": {
              "outlinewidth": 0,
              "ticks": ""
             }
            },
            "type": "scatterternary"
           }
          ],
          "surface": [
           {
            "colorbar": {
             "outlinewidth": 0,
             "ticks": ""
            },
            "colorscale": [
             [
              0,
              "#0d0887"
             ],
             [
              0.1111111111111111,
              "#46039f"
             ],
             [
              0.2222222222222222,
              "#7201a8"
             ],
             [
              0.3333333333333333,
              "#9c179e"
             ],
             [
              0.4444444444444444,
              "#bd3786"
             ],
             [
              0.5555555555555556,
              "#d8576b"
             ],
             [
              0.6666666666666666,
              "#ed7953"
             ],
             [
              0.7777777777777778,
              "#fb9f3a"
             ],
             [
              0.8888888888888888,
              "#fdca26"
             ],
             [
              1,
              "#f0f921"
             ]
            ],
            "type": "surface"
           }
          ],
          "table": [
           {
            "cells": {
             "fill": {
              "color": "#EBF0F8"
             },
             "line": {
              "color": "white"
             }
            },
            "header": {
             "fill": {
              "color": "#C8D4E3"
             },
             "line": {
              "color": "white"
             }
            },
            "type": "table"
           }
          ]
         },
         "layout": {
          "annotationdefaults": {
           "arrowcolor": "#2a3f5f",
           "arrowhead": 0,
           "arrowwidth": 1
          },
          "autotypenumbers": "strict",
          "coloraxis": {
           "colorbar": {
            "outlinewidth": 0,
            "ticks": ""
           }
          },
          "colorscale": {
           "diverging": [
            [
             0,
             "#8e0152"
            ],
            [
             0.1,
             "#c51b7d"
            ],
            [
             0.2,
             "#de77ae"
            ],
            [
             0.3,
             "#f1b6da"
            ],
            [
             0.4,
             "#fde0ef"
            ],
            [
             0.5,
             "#f7f7f7"
            ],
            [
             0.6,
             "#e6f5d0"
            ],
            [
             0.7,
             "#b8e186"
            ],
            [
             0.8,
             "#7fbc41"
            ],
            [
             0.9,
             "#4d9221"
            ],
            [
             1,
             "#276419"
            ]
           ],
           "sequential": [
            [
             0,
             "#0d0887"
            ],
            [
             0.1111111111111111,
             "#46039f"
            ],
            [
             0.2222222222222222,
             "#7201a8"
            ],
            [
             0.3333333333333333,
             "#9c179e"
            ],
            [
             0.4444444444444444,
             "#bd3786"
            ],
            [
             0.5555555555555556,
             "#d8576b"
            ],
            [
             0.6666666666666666,
             "#ed7953"
            ],
            [
             0.7777777777777778,
             "#fb9f3a"
            ],
            [
             0.8888888888888888,
             "#fdca26"
            ],
            [
             1,
             "#f0f921"
            ]
           ],
           "sequentialminus": [
            [
             0,
             "#0d0887"
            ],
            [
             0.1111111111111111,
             "#46039f"
            ],
            [
             0.2222222222222222,
             "#7201a8"
            ],
            [
             0.3333333333333333,
             "#9c179e"
            ],
            [
             0.4444444444444444,
             "#bd3786"
            ],
            [
             0.5555555555555556,
             "#d8576b"
            ],
            [
             0.6666666666666666,
             "#ed7953"
            ],
            [
             0.7777777777777778,
             "#fb9f3a"
            ],
            [
             0.8888888888888888,
             "#fdca26"
            ],
            [
             1,
             "#f0f921"
            ]
           ]
          },
          "colorway": [
           "#636efa",
           "#EF553B",
           "#00cc96",
           "#ab63fa",
           "#FFA15A",
           "#19d3f3",
           "#FF6692",
           "#B6E880",
           "#FF97FF",
           "#FECB52"
          ],
          "font": {
           "color": "#2a3f5f"
          },
          "geo": {
           "bgcolor": "white",
           "lakecolor": "white",
           "landcolor": "#E5ECF6",
           "showlakes": true,
           "showland": true,
           "subunitcolor": "white"
          },
          "hoverlabel": {
           "align": "left"
          },
          "hovermode": "closest",
          "mapbox": {
           "style": "light"
          },
          "paper_bgcolor": "white",
          "plot_bgcolor": "#E5ECF6",
          "polar": {
           "angularaxis": {
            "gridcolor": "white",
            "linecolor": "white",
            "ticks": ""
           },
           "bgcolor": "#E5ECF6",
           "radialaxis": {
            "gridcolor": "white",
            "linecolor": "white",
            "ticks": ""
           }
          },
          "scene": {
           "xaxis": {
            "backgroundcolor": "#E5ECF6",
            "gridcolor": "white",
            "gridwidth": 2,
            "linecolor": "white",
            "showbackground": true,
            "ticks": "",
            "zerolinecolor": "white"
           },
           "yaxis": {
            "backgroundcolor": "#E5ECF6",
            "gridcolor": "white",
            "gridwidth": 2,
            "linecolor": "white",
            "showbackground": true,
            "ticks": "",
            "zerolinecolor": "white"
           },
           "zaxis": {
            "backgroundcolor": "#E5ECF6",
            "gridcolor": "white",
            "gridwidth": 2,
            "linecolor": "white",
            "showbackground": true,
            "ticks": "",
            "zerolinecolor": "white"
           }
          },
          "shapedefaults": {
           "line": {
            "color": "#2a3f5f"
           }
          },
          "ternary": {
           "aaxis": {
            "gridcolor": "white",
            "linecolor": "white",
            "ticks": ""
           },
           "baxis": {
            "gridcolor": "white",
            "linecolor": "white",
            "ticks": ""
           },
           "bgcolor": "#E5ECF6",
           "caxis": {
            "gridcolor": "white",
            "linecolor": "white",
            "ticks": ""
           }
          },
          "title": {
           "x": 0.05
          },
          "xaxis": {
           "automargin": true,
           "gridcolor": "white",
           "linecolor": "white",
           "ticks": "",
           "title": {
            "standoff": 15
           },
           "zerolinecolor": "white",
           "zerolinewidth": 2
          },
          "yaxis": {
           "automargin": true,
           "gridcolor": "white",
           "linecolor": "white",
           "ticks": "",
           "title": {
            "standoff": 15
           },
           "zerolinecolor": "white",
           "zerolinewidth": 2
          }
         }
        },
        "title": {
         "font": {
          "color": "black"
         },
         "text": "Destination of flights from Schiphol on Valentines day 💘 "
        },
        "width": 1000
       }
      }
     },
     "metadata": {},
     "output_type": "display_data"
    }
   ],
   "source": [
    "fig = go.Figure()\n",
    "\n",
    "# Loop through each flight entry to add line from Netherlands to destination\n",
    "for country, lat, lon in zip(merged_df[\"country\"], merged_df[\"latitude\"], merged_df[\"longitude\"]):\n",
    "    fig.add_trace(go.Scattergeo(\n",
    "        lat=[52.1326, lat],  # Latitude and longitude of the Netherlands because Schiphol is the origin\n",
    "        lon=[5.2913, lon],   \n",
    "        mode='lines',\n",
    "        line=dict(color=\"pink\", width=1),  # Make the lines thinner and pink\n",
    "        name=country  # Set the trace name to the country name\n",
    "    ))\n",
    "\n",
    "# Edit layout\n",
    "fig.update_layout(\n",
    "    title=dict(\n",
    "        text=\"Destination of flights from Schiphol on Valentines day 💘 \",\n",
    "        font=dict(color=\"black\")  #\n",
    "    ),\n",
    "    geo=dict(\n",
    "        showland=True,\n",
    "        landcolor='rgb(243, 243, 243)',\n",
    "        countrycolor='rgb(204, 204, 204)',\n",
    "        projection_scale=1  # Increase the projection for larger layout\n",
    "    ),\n",
    "    showlegend=False,  # Delete legend\n",
    "    height=800,  # Adjust the height of the box\n",
    "    width=1000    # Adjust the width of the box\n",
    ")\n",
    "\n",
    "fig.show()"
   ]
  }
 ],
 "metadata": {
  "kernelspec": {
   "display_name": "Python 3 (ipykernel)",
   "language": "python",
   "name": "python3"
  },
  "language_info": {
   "codemirror_mode": {
    "name": "ipython",
    "version": 3
   },
   "file_extension": ".py",
   "mimetype": "text/x-python",
   "name": "python",
   "nbconvert_exporter": "python",
   "pygments_lexer": "ipython3",
   "version": "3.12.5"
  }
 },
 "nbformat": 4,
 "nbformat_minor": 5
}
